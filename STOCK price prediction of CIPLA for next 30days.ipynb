{
 "cells": [
  {
   "cell_type": "code",
   "execution_count": 6,
   "metadata": {},
   "outputs": [],
   "source": [
    "import numpy as np\n",
    "import pandas as pd\n",
    "import seaborn as sns\n",
    "import matplotlib.pyplot as plt\n",
    "from sklearn.svm import SVR\n",
    "from sklearn.linear_model import LinearRegression\n",
    "from sklearn.model_selection import train_test_split"
   ]
  },
  {
   "cell_type": "code",
   "execution_count": 8,
   "metadata": {},
   "outputs": [],
   "source": [
    "data=pd.read_csv(\"CIPLA.csv\")"
   ]
  },
  {
   "cell_type": "code",
   "execution_count": 9,
   "metadata": {},
   "outputs": [
    {
     "data": {
      "text/html": [
       "<div>\n",
       "<style scoped>\n",
       "    .dataframe tbody tr th:only-of-type {\n",
       "        vertical-align: middle;\n",
       "    }\n",
       "\n",
       "    .dataframe tbody tr th {\n",
       "        vertical-align: top;\n",
       "    }\n",
       "\n",
       "    .dataframe thead th {\n",
       "        text-align: right;\n",
       "    }\n",
       "</style>\n",
       "<table border=\"1\" class=\"dataframe\">\n",
       "  <thead>\n",
       "    <tr style=\"text-align: right;\">\n",
       "      <th></th>\n",
       "      <th>Symbol</th>\n",
       "      <th>Series</th>\n",
       "      <th>Date</th>\n",
       "      <th>Prev Close</th>\n",
       "      <th>Open Price</th>\n",
       "      <th>High Price</th>\n",
       "      <th>Low Price</th>\n",
       "      <th>Last Price</th>\n",
       "      <th>Close Price</th>\n",
       "      <th>Average Price</th>\n",
       "      <th>Total Traded Quantity</th>\n",
       "      <th>Turnover</th>\n",
       "      <th>No. of Trades</th>\n",
       "    </tr>\n",
       "  </thead>\n",
       "  <tbody>\n",
       "    <tr>\n",
       "      <th>0</th>\n",
       "      <td>CIPLA</td>\n",
       "      <td>EQ</td>\n",
       "      <td>13-Mar-2020</td>\n",
       "      <td>394.75</td>\n",
       "      <td>388.0</td>\n",
       "      <td>434.95</td>\n",
       "      <td>355.30</td>\n",
       "      <td>425.00</td>\n",
       "      <td>425.55</td>\n",
       "      <td>409.52</td>\n",
       "      <td>6096909</td>\n",
       "      <td>2.496795e+09</td>\n",
       "      <td>150719</td>\n",
       "    </tr>\n",
       "    <tr>\n",
       "      <th>1</th>\n",
       "      <td>CIPLA</td>\n",
       "      <td>EQ</td>\n",
       "      <td>16-Mar-2020</td>\n",
       "      <td>425.55</td>\n",
       "      <td>416.0</td>\n",
       "      <td>423.90</td>\n",
       "      <td>392.75</td>\n",
       "      <td>396.00</td>\n",
       "      <td>396.40</td>\n",
       "      <td>407.52</td>\n",
       "      <td>5394615</td>\n",
       "      <td>2.198421e+09</td>\n",
       "      <td>89810</td>\n",
       "    </tr>\n",
       "    <tr>\n",
       "      <th>2</th>\n",
       "      <td>CIPLA</td>\n",
       "      <td>EQ</td>\n",
       "      <td>17-Mar-2020</td>\n",
       "      <td>396.40</td>\n",
       "      <td>397.0</td>\n",
       "      <td>422.00</td>\n",
       "      <td>390.75</td>\n",
       "      <td>405.00</td>\n",
       "      <td>401.75</td>\n",
       "      <td>410.29</td>\n",
       "      <td>2989674</td>\n",
       "      <td>1.226642e+09</td>\n",
       "      <td>83402</td>\n",
       "    </tr>\n",
       "    <tr>\n",
       "      <th>3</th>\n",
       "      <td>CIPLA</td>\n",
       "      <td>EQ</td>\n",
       "      <td>18-Mar-2020</td>\n",
       "      <td>401.75</td>\n",
       "      <td>411.8</td>\n",
       "      <td>411.80</td>\n",
       "      <td>381.70</td>\n",
       "      <td>390.35</td>\n",
       "      <td>386.00</td>\n",
       "      <td>398.21</td>\n",
       "      <td>4200582</td>\n",
       "      <td>1.672727e+09</td>\n",
       "      <td>114086</td>\n",
       "    </tr>\n",
       "    <tr>\n",
       "      <th>4</th>\n",
       "      <td>CIPLA</td>\n",
       "      <td>EQ</td>\n",
       "      <td>19-Mar-2020</td>\n",
       "      <td>386.00</td>\n",
       "      <td>374.8</td>\n",
       "      <td>390.75</td>\n",
       "      <td>362.90</td>\n",
       "      <td>374.75</td>\n",
       "      <td>374.70</td>\n",
       "      <td>376.81</td>\n",
       "      <td>2926155</td>\n",
       "      <td>1.102602e+09</td>\n",
       "      <td>85136</td>\n",
       "    </tr>\n",
       "  </tbody>\n",
       "</table>\n",
       "</div>"
      ],
      "text/plain": [
       "  Symbol Series         Date  Prev Close  Open Price  High Price  Low Price  \\\n",
       "0  CIPLA     EQ  13-Mar-2020      394.75       388.0      434.95     355.30   \n",
       "1  CIPLA     EQ  16-Mar-2020      425.55       416.0      423.90     392.75   \n",
       "2  CIPLA     EQ  17-Mar-2020      396.40       397.0      422.00     390.75   \n",
       "3  CIPLA     EQ  18-Mar-2020      401.75       411.8      411.80     381.70   \n",
       "4  CIPLA     EQ  19-Mar-2020      386.00       374.8      390.75     362.90   \n",
       "\n",
       "   Last Price  Close Price  Average Price  Total Traded Quantity  \\\n",
       "0      425.00       425.55         409.52                6096909   \n",
       "1      396.00       396.40         407.52                5394615   \n",
       "2      405.00       401.75         410.29                2989674   \n",
       "3      390.35       386.00         398.21                4200582   \n",
       "4      374.75       374.70         376.81                2926155   \n",
       "\n",
       "       Turnover  No. of Trades  \n",
       "0  2.496795e+09         150719  \n",
       "1  2.198421e+09          89810  \n",
       "2  1.226642e+09          83402  \n",
       "3  1.672727e+09         114086  \n",
       "4  1.102602e+09          85136  "
      ]
     },
     "execution_count": 9,
     "metadata": {},
     "output_type": "execute_result"
    }
   ],
   "source": [
    "data.head()"
   ]
  },
  {
   "cell_type": "code",
   "execution_count": 12,
   "metadata": {},
   "outputs": [
    {
     "data": {
      "text/plain": [
       "(58, 13)"
      ]
     },
     "execution_count": 12,
     "metadata": {},
     "output_type": "execute_result"
    }
   ],
   "source": [
    "data.shape"
   ]
  },
  {
   "cell_type": "code",
   "execution_count": 10,
   "metadata": {},
   "outputs": [
    {
     "name": "stdout",
     "output_type": "stream",
     "text": [
      "<class 'pandas.core.frame.DataFrame'>\n",
      "RangeIndex: 58 entries, 0 to 57\n",
      "Data columns (total 13 columns):\n",
      " #   Column                 Non-Null Count  Dtype  \n",
      "---  ------                 --------------  -----  \n",
      " 0   Symbol                 58 non-null     object \n",
      " 1   Series                 58 non-null     object \n",
      " 2   Date                   58 non-null     object \n",
      " 3   Prev Close             58 non-null     float64\n",
      " 4   Open Price             58 non-null     float64\n",
      " 5   High Price             58 non-null     float64\n",
      " 6   Low Price              58 non-null     float64\n",
      " 7   Last Price             58 non-null     float64\n",
      " 8   Close Price            58 non-null     float64\n",
      " 9   Average Price          58 non-null     float64\n",
      " 10  Total Traded Quantity  58 non-null     int64  \n",
      " 11  Turnover               58 non-null     float64\n",
      " 12  No. of Trades          58 non-null     int64  \n",
      "dtypes: float64(8), int64(2), object(3)\n",
      "memory usage: 6.0+ KB\n"
     ]
    }
   ],
   "source": [
    "data.info()"
   ]
  },
  {
   "cell_type": "code",
   "execution_count": 13,
   "metadata": {},
   "outputs": [],
   "source": [
    "df=data[['Close Price']]"
   ]
  },
  {
   "cell_type": "code",
   "execution_count": 14,
   "metadata": {},
   "outputs": [
    {
     "data": {
      "text/html": [
       "<div>\n",
       "<style scoped>\n",
       "    .dataframe tbody tr th:only-of-type {\n",
       "        vertical-align: middle;\n",
       "    }\n",
       "\n",
       "    .dataframe tbody tr th {\n",
       "        vertical-align: top;\n",
       "    }\n",
       "\n",
       "    .dataframe thead th {\n",
       "        text-align: right;\n",
       "    }\n",
       "</style>\n",
       "<table border=\"1\" class=\"dataframe\">\n",
       "  <thead>\n",
       "    <tr style=\"text-align: right;\">\n",
       "      <th></th>\n",
       "      <th>Close Price</th>\n",
       "    </tr>\n",
       "  </thead>\n",
       "  <tbody>\n",
       "    <tr>\n",
       "      <th>0</th>\n",
       "      <td>425.55</td>\n",
       "    </tr>\n",
       "    <tr>\n",
       "      <th>1</th>\n",
       "      <td>396.40</td>\n",
       "    </tr>\n",
       "    <tr>\n",
       "      <th>2</th>\n",
       "      <td>401.75</td>\n",
       "    </tr>\n",
       "    <tr>\n",
       "      <th>3</th>\n",
       "      <td>386.00</td>\n",
       "    </tr>\n",
       "    <tr>\n",
       "      <th>4</th>\n",
       "      <td>374.70</td>\n",
       "    </tr>\n",
       "  </tbody>\n",
       "</table>\n",
       "</div>"
      ],
      "text/plain": [
       "   Close Price\n",
       "0       425.55\n",
       "1       396.40\n",
       "2       401.75\n",
       "3       386.00\n",
       "4       374.70"
      ]
     },
     "execution_count": 14,
     "metadata": {},
     "output_type": "execute_result"
    }
   ],
   "source": [
    "df.head()"
   ]
  },
  {
   "cell_type": "code",
   "execution_count": 18,
   "metadata": {},
   "outputs": [
    {
     "name": "stdout",
     "output_type": "stream",
     "text": [
      "    Close Price  Prediction\n",
      "53       660.55         NaN\n",
      "54       650.90         NaN\n",
      "55       635.10         NaN\n",
      "56       640.05         NaN\n",
      "57       642.95         NaN\n"
     ]
    },
    {
     "name": "stderr",
     "output_type": "stream",
     "text": [
      "C:\\Users\\DELL\\anaconda3\\lib\\site-packages\\ipykernel_launcher.py:2: SettingWithCopyWarning: \n",
      "A value is trying to be set on a copy of a slice from a DataFrame.\n",
      "Try using .loc[row_indexer,col_indexer] = value instead\n",
      "\n",
      "See the caveats in the documentation: https://pandas.pydata.org/pandas-docs/stable/user_guide/indexing.html#returning-a-view-versus-a-copy\n",
      "  \n"
     ]
    }
   ],
   "source": [
    "forecast_out=30\n",
    "df['Prediction']=df[['Close Price']].shift(-forecast_out)\n",
    "print(df.tail())"
   ]
  },
  {
   "cell_type": "code",
   "execution_count": 25,
   "metadata": {},
   "outputs": [
    {
     "name": "stdout",
     "output_type": "stream",
     "text": [
      "[[425.55]\n",
      " [396.4 ]\n",
      " [401.75]\n",
      " [386.  ]\n",
      " [374.7 ]\n",
      " [392.8 ]\n",
      " [375.25]\n",
      " [377.45]\n",
      " [376.45]\n",
      " [386.15]\n",
      " [407.65]\n",
      " [431.75]\n",
      " [422.85]\n",
      " [413.75]\n",
      " [449.2 ]\n",
      " [492.25]\n",
      " [512.75]\n",
      " [579.6 ]\n",
      " [592.85]\n",
      " [592.35]\n",
      " [600.45]\n",
      " [598.  ]\n",
      " [585.4 ]\n",
      " [592.1 ]\n",
      " [587.2 ]\n",
      " [586.7 ]\n",
      " [599.3 ]\n",
      " [608.7 ]]\n"
     ]
    }
   ],
   "source": [
    "X=np.array(df.drop(['Prediction'],1))\n",
    "X=X[:-forecast_out]\n",
    "print(X)"
   ]
  },
  {
   "cell_type": "code",
   "execution_count": 38,
   "metadata": {},
   "outputs": [
    {
     "data": {
      "text/plain": [
       "array([589.6 , 611.85, 596.9 , 591.75, 589.55, 591.9 , 586.05, 570.15,\n",
       "       570.2 , 569.75, 570.3 , 600.45, 594.95, 620.65, 616.6 , 639.35,\n",
       "       627.7 , 633.05, 628.35, 648.15, 642.5 , 637.6 , 641.2 , 660.55,\n",
       "       650.9 , 635.1 , 640.05, 642.95])"
      ]
     },
     "execution_count": 38,
     "metadata": {},
     "output_type": "execute_result"
    }
   ],
   "source": [
    "Y=np.array(df['Prediction'])\n",
    "Y = Y[:-forecast_out]\n",
    "Y"
   ]
  },
  {
   "cell_type": "code",
   "execution_count": 39,
   "metadata": {},
   "outputs": [],
   "source": [
    "X_train,X_test,Y_train,Y_test=train_test_split(X,Y,test_size=0.30,random_state=1)"
   ]
  },
  {
   "cell_type": "markdown",
   "metadata": {},
   "source": [
    "# SVR model"
   ]
  },
  {
   "cell_type": "code",
   "execution_count": 58,
   "metadata": {},
   "outputs": [
    {
     "data": {
      "text/plain": [
       "SVR(C=1000.0, cache_size=200, coef0=0.0, degree=3, epsilon=0.1, gamma=0.1,\n",
       "    kernel='rbf', max_iter=-1, shrinking=True, tol=0.001, verbose=False)"
      ]
     },
     "execution_count": 58,
     "metadata": {},
     "output_type": "execute_result"
    }
   ],
   "source": [
    "svr_rbf = SVR(kernel='rbf', C=1e3, gamma=0.1) \n",
    "svr_rbf.fit(X_train, Y_train)\n"
   ]
  },
  {
   "cell_type": "code",
   "execution_count": 59,
   "metadata": {},
   "outputs": [
    {
     "name": "stdout",
     "output_type": "stream",
     "text": [
      "svm confidence:  0.49092851379713043\n"
     ]
    }
   ],
   "source": [
    "# Testing Model: Score returns the coefficient of determination R^2 of the prediction. \n",
    "# The best possible score is 1.0\n",
    "svm_confidence=svr_rbf.score(X_test,Y_test)\n",
    "print(\"svm confidence: \", svm_confidence)\n"
   ]
  },
  {
   "cell_type": "markdown",
   "metadata": {},
   "source": [
    "# Linear Regression"
   ]
  },
  {
   "cell_type": "code",
   "execution_count": 42,
   "metadata": {},
   "outputs": [
    {
     "data": {
      "text/plain": [
       "LinearRegression(copy_X=True, fit_intercept=True, n_jobs=None, normalize=False)"
      ]
     },
     "execution_count": 42,
     "metadata": {},
     "output_type": "execute_result"
    }
   ],
   "source": [
    "from sklearn.linear_model import LinearRegression\n",
    "# Create and train the Linear Regression  Model\n",
    "lr = LinearRegression()\n",
    "# Train the model\n",
    "lr.fit(X_train, Y_train)"
   ]
  },
  {
   "cell_type": "code",
   "execution_count": 37,
   "metadata": {},
   "outputs": [
    {
     "name": "stdout",
     "output_type": "stream",
     "text": [
      "lr confidence:  0.8486787455016843\n"
     ]
    }
   ],
   "source": [
    "# Testing Model: Score returns the coefficient of determination R^2 of the prediction. \n",
    "# The best possible score is 1.0\n",
    "lr_confidence = lr.score(X_test, Y_test)\n",
    "print(\"lr confidence: \", lr_confidence)\n"
   ]
  },
  {
   "cell_type": "code",
   "execution_count": 52,
   "metadata": {},
   "outputs": [
    {
     "name": "stdout",
     "output_type": "stream",
     "text": [
      "[[598.6 ]\n",
      " [596.25]\n",
      " [589.6 ]\n",
      " [611.85]\n",
      " [596.9 ]\n",
      " [591.75]\n",
      " [589.55]\n",
      " [591.9 ]\n",
      " [586.05]\n",
      " [570.15]\n",
      " [570.2 ]\n",
      " [569.75]\n",
      " [570.3 ]\n",
      " [600.45]\n",
      " [594.95]\n",
      " [620.65]\n",
      " [616.6 ]\n",
      " [639.35]\n",
      " [627.7 ]\n",
      " [633.05]\n",
      " [628.35]\n",
      " [648.15]\n",
      " [642.5 ]\n",
      " [637.6 ]\n",
      " [641.2 ]\n",
      " [660.55]\n",
      " [650.9 ]\n",
      " [635.1 ]\n",
      " [640.05]\n",
      " [642.95]]\n"
     ]
    }
   ],
   "source": [
    "x_forecast = np.array(df.drop(['Prediction'],1))[-forecast_out:]\n",
    "print(x_forecast)\n"
   ]
  },
  {
   "cell_type": "code",
   "execution_count": 53,
   "metadata": {},
   "outputs": [
    {
     "name": "stdout",
     "output_type": "stream",
     "text": [
      "[645.59223626 644.96272639 643.1813474  649.14160042 645.13684614\n",
      " 643.75728196 643.16795357 643.79746344 642.23038568 637.97114868\n",
      " 637.98454251 637.86399807 638.01133017 646.08780786 644.61448689\n",
      " 651.49891397 650.41401399 656.50820528 653.38744358 654.82058308\n",
      " 653.56156334 658.86551884 657.35201638 656.03942133 657.00377688\n",
      " 662.18718794 659.60217932 655.36972998 656.69571886 657.47256083]\n"
     ]
    }
   ],
   "source": [
    "lr_prediction = lr.predict(x_forecast)\n",
    "print(lr_prediction)"
   ]
  },
  {
   "cell_type": "markdown",
   "metadata": {},
   "source": [
    "# GBR"
   ]
  },
  {
   "cell_type": "code",
   "execution_count": 54,
   "metadata": {},
   "outputs": [],
   "source": [
    "from sklearn import ensemble\n",
    "clf = ensemble.GradientBoostingRegressor(n_estimators = 400, max_depth = 5, min_samples_split = 2,\n",
    "          learning_rate = 0.1, loss = 'ls')"
   ]
  },
  {
   "cell_type": "code",
   "execution_count": 55,
   "metadata": {},
   "outputs": [
    {
     "data": {
      "text/plain": [
       "GradientBoostingRegressor(alpha=0.9, ccp_alpha=0.0, criterion='friedman_mse',\n",
       "                          init=None, learning_rate=0.1, loss='ls', max_depth=5,\n",
       "                          max_features=None, max_leaf_nodes=None,\n",
       "                          min_impurity_decrease=0.0, min_impurity_split=None,\n",
       "                          min_samples_leaf=1, min_samples_split=2,\n",
       "                          min_weight_fraction_leaf=0.0, n_estimators=400,\n",
       "                          n_iter_no_change=None, presort='deprecated',\n",
       "                          random_state=None, subsample=1.0, tol=0.0001,\n",
       "                          validation_fraction=0.1, verbose=0, warm_start=False)"
      ]
     },
     "execution_count": 55,
     "metadata": {},
     "output_type": "execute_result"
    }
   ],
   "source": [
    "clf.fit(X_train, Y_train)"
   ]
  },
  {
   "cell_type": "code",
   "execution_count": 56,
   "metadata": {},
   "outputs": [
    {
     "data": {
      "text/plain": [
       "0.9999999998625508"
      ]
     },
     "execution_count": 56,
     "metadata": {},
     "output_type": "execute_result"
    }
   ],
   "source": [
    "clf.score(X_train, Y_train)"
   ]
  },
  {
   "cell_type": "markdown",
   "metadata": {},
   "source": [
    "# Compare prediction for the next 30days"
   ]
  },
  {
   "cell_type": "code",
   "execution_count": 57,
   "metadata": {},
   "outputs": [
    {
     "name": "stdout",
     "output_type": "stream",
     "text": [
      "[635.4774531  592.4882059  686.55502133 623.65059667 606.58999137\n",
      " 673.2648765  685.68902675 668.04591757 629.31421861 612.34133367\n",
      " 612.34133367 612.34133367 612.34133367 638.24976814 576.19150957\n",
      " 612.34135284 612.40075344 612.34133367 612.34133367 612.34133367\n",
      " 612.34133367 612.34133367 612.34133367 612.34133367 612.34133367\n",
      " 612.34133367 612.34133367 612.34133367 612.34133367 612.34133367]\n",
      "[645.59223626 644.96272639 643.1813474  649.14160042 645.13684614\n",
      " 643.75728196 643.16795357 643.79746344 642.23038568 637.97114868\n",
      " 637.98454251 637.86399807 638.01133017 646.08780786 644.61448689\n",
      " 651.49891397 650.41401399 656.50820528 653.38744358 654.82058308\n",
      " 653.56156334 658.86551884 657.35201638 656.03942133 657.00377688\n",
      " 662.18718794 659.60217932 655.36972998 656.69571886 657.47256083]\n",
      "[640.04988675 640.04988675 660.54942676 642.94963567 640.04988675\n",
      " 660.54942676 660.54942676 660.54942676 635.09988237 635.09988237\n",
      " 635.09988237 635.09988237 635.09988237 640.04988675 628.35027036\n",
      " 642.94963567 642.94963567 642.94963567 642.94963567 642.94963567\n",
      " 642.94963567 642.94963567 642.94963567 642.94963567 642.94963567\n",
      " 642.94963567 642.94963567 642.94963567 642.94963567 642.94963567]\n"
     ]
    }
   ],
   "source": [
    "#SVR\n",
    "svm_prediction = svr_rbf.predict(x_forecast)\n",
    "print(svm_prediction)\n",
    "\n",
    "#Linear Regression\n",
    "lr_prediction = lr.predict(x_forecast)\n",
    "print(lr_prediction)\n",
    "\n",
    "#GBR\n",
    "clf_prediction=clf.predict(x_forecast)\n",
    "print(clf_prediction)\n",
    "\n",
    "\n"
   ]
  },
  {
   "cell_type": "code",
   "execution_count": null,
   "metadata": {},
   "outputs": [],
   "source": []
  }
 ],
 "metadata": {
  "kernelspec": {
   "display_name": "Python 3",
   "language": "python",
   "name": "python3"
  },
  "language_info": {
   "codemirror_mode": {
    "name": "ipython",
    "version": 3
   },
   "file_extension": ".py",
   "mimetype": "text/x-python",
   "name": "python",
   "nbconvert_exporter": "python",
   "pygments_lexer": "ipython3",
   "version": "3.7.6"
  }
 },
 "nbformat": 4,
 "nbformat_minor": 4
}
